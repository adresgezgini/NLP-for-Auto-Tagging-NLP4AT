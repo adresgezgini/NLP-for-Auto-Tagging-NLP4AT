{
  "nbformat": 4,
  "nbformat_minor": 0,
  "metadata": {
    "kernelspec": {
      "display_name": "Python 3",
      "language": "python",
      "name": "python3"
    },
    "language_info": {
      "codemirror_mode": {
        "name": "ipython",
        "version": 3
      },
      "file_extension": ".py",
      "mimetype": "text/x-python",
      "name": "python",
      "nbconvert_exporter": "python",
      "pygments_lexer": "ipython3",
      "version": "3.6.7"
    },
    "colab": {
      "name": "AG-SIU-2021-ATSCSUNLPM-LSTM",
      "provenance": [],
      "collapsed_sections": []
    },
    "accelerator": "GPU"
  },
  "cells": [
    {
      "cell_type": "markdown",
      "metadata": {
        "id": "hB-cKhaY4Vum"
      },
      "source": [
        "Model İçin Gerekli Paketlerin Kurulumu"
      ]
    },
    {
      "cell_type": "code",
      "metadata": {
        "id": "5e65vIBw7N6I"
      },
      "source": [
        "!pip install chart_studio\r\n",
        "!pip install sklearn"
      ],
      "execution_count": null,
      "outputs": []
    },
    {
      "cell_type": "code",
      "metadata": {
        "id": "hFXo93O3tt_K"
      },
      "source": [
        "import numpy as np \n",
        "import pandas as pd\n",
        "import matplotlib.pyplot as plt\n",
        "import seaborn as sns\n",
        "from keras.preprocessing.text import Tokenizer\n",
        "from keras.preprocessing.sequence import pad_sequences\n",
        "from keras.models import Sequential\n",
        "from keras.layers import Dense, Embedding, LSTM, SpatialDropout1D\n",
        "from sklearn.model_selection import train_test_split\n",
        "from keras.utils.np_utils import to_categorical\n",
        "from keras.callbacks import EarlyStopping\n",
        "from keras.layers import Dropout\n",
        "import re\n",
        "import nltk\n",
        "nltk.download('stopwords')\n",
        "from nltk.corpus import stopwords\n",
        "from nltk import word_tokenize\n",
        "STOPWORDS = set(stopwords.words('turkish'))\n",
        "from bs4 import BeautifulSoup\n",
        "#from plotly import plotly\n",
        "import plotly.graph_objs as go\n",
        "import chart_studio.plotly as py\n",
        "#import plotly.plotly as py\n",
        "import cufflinks\n",
        "from IPython.core.interactiveshell import InteractiveShell\n",
        "import plotly.figure_factory as ff\n",
        "InteractiveShell.ast_node_interactivity = 'all'\n",
        "from plotly.offline import iplot\n",
        "cufflinks.go_offline()\n",
        "cufflinks.set_config_file(world_readable=True, theme='pearl')"
      ],
      "execution_count": null,
      "outputs": []
    },
    {
      "cell_type": "markdown",
      "metadata": {
        "id": "IP-aVg2T4bEc"
      },
      "source": [
        "Modeli alacağımız veri kaynağı. Mecvut analizimiz için bir kolonda verinin kendisi, diğer kolonda ise verinin etiketinin bulunması yeterlidir.\r\n",
        "text,\tlabels\r\n",
        "\r\n",
        "\tmağazamın ınstagram hesabı için reklam vermeyi...\t4\r\n",
        "\tgoogle şirket reklamı vermek istiyordum bu kon...\t2\r\n",
        "\tben ınstagram\t4\r\n",
        "\tkolay glsin ben web siteme reklam almak istiyo...\t2\r\n",
        "\tsitemin trafiğini arttırmak için reklam vermey...\t0"
      ]
    },
    {
      "cell_type": "code",
      "metadata": {
        "id": "4NNxh8iztt_T"
      },
      "source": [
        "df = pd.read_csv('veriseti.csv')"
      ],
      "execution_count": 33,
      "outputs": []
    },
    {
      "cell_type": "code",
      "metadata": {
        "colab": {
          "base_uri": "https://localhost:8080/",
          "height": 204
        },
        "id": "RvijWpOUvyOY",
        "outputId": "861e7233-87ae-41b7-d247-95b750575742"
      },
      "source": [
        "#Veri setimize göz atıyoruz.\r\n",
        "df.head()"
      ],
      "execution_count": 34,
      "outputs": [
        {
          "output_type": "execute_result",
          "data": {
            "text/html": [
              "<div>\n",
              "<style scoped>\n",
              "    .dataframe tbody tr th:only-of-type {\n",
              "        vertical-align: middle;\n",
              "    }\n",
              "\n",
              "    .dataframe tbody tr th {\n",
              "        vertical-align: top;\n",
              "    }\n",
              "\n",
              "    .dataframe thead th {\n",
              "        text-align: right;\n",
              "    }\n",
              "</style>\n",
              "<table border=\"1\" class=\"dataframe\">\n",
              "  <thead>\n",
              "    <tr style=\"text-align: right;\">\n",
              "      <th></th>\n",
              "      <th>text</th>\n",
              "      <th>labels</th>\n",
              "    </tr>\n",
              "  </thead>\n",
              "  <tbody>\n",
              "    <tr>\n",
              "      <th>0</th>\n",
              "      <td>mağazamın ınstagram hesabı için reklam vermeyi...</td>\n",
              "      <td>4</td>\n",
              "    </tr>\n",
              "    <tr>\n",
              "      <th>1</th>\n",
              "      <td>google şirket reklamı vermek istiyordum bu kon...</td>\n",
              "      <td>2</td>\n",
              "    </tr>\n",
              "    <tr>\n",
              "      <th>2</th>\n",
              "      <td>ben ınstagram</td>\n",
              "      <td>4</td>\n",
              "    </tr>\n",
              "    <tr>\n",
              "      <th>3</th>\n",
              "      <td>kolay glsin ben web siteme reklam almak istiyo...</td>\n",
              "      <td>2</td>\n",
              "    </tr>\n",
              "    <tr>\n",
              "      <th>4</th>\n",
              "      <td>sitemin trafiğini arttırmak için reklam vermey...</td>\n",
              "      <td>0</td>\n",
              "    </tr>\n",
              "  </tbody>\n",
              "</table>\n",
              "</div>"
            ],
            "text/plain": [
              "                                                text  labels\n",
              "0  mağazamın ınstagram hesabı için reklam vermeyi...       4\n",
              "1  google şirket reklamı vermek istiyordum bu kon...       2\n",
              "2                                      ben ınstagram       4\n",
              "3  kolay glsin ben web siteme reklam almak istiyo...       2\n",
              "4  sitemin trafiğini arttırmak için reklam vermey...       0"
            ]
          },
          "metadata": {
            "tags": []
          },
          "execution_count": 34
        }
      ]
    },
    {
      "cell_type": "markdown",
      "metadata": {
        "id": "ZpkclR7D4_vZ"
      },
      "source": [
        "Veri setimizdeki soruların etiketlere göre dağılımını görmek için veriyi görselleştirme işlemine tabi tutuyoruz."
      ]
    },
    {
      "cell_type": "code",
      "metadata": {
        "colab": {
          "base_uri": "https://localhost:8080/",
          "height": 452
        },
        "id": "bLhCkNr1Flku",
        "outputId": "463264a0-0b0f-4f47-e194-79bbda15618c"
      },
      "source": [
        "import seaborn as sns\r\n",
        "cnt_pro = df['labels'].value_counts()\r\n",
        "\r\n",
        "plt.figure(figsize=(12,4))\r\n",
        "sns.barplot(cnt_pro.index, cnt_pro.values, alpha=0.8)\r\n",
        "plt.ylabel('Soru Sayıları', fontsize=12)\r\n",
        "plt.xlabel('Etiketler', fontsize=12)\r\n",
        "plt.xticks(rotation=90)\r\n",
        "plt.show();"
      ],
      "execution_count": 35,
      "outputs": [
        {
          "output_type": "stream",
          "text": [
            "/usr/local/lib/python3.6/dist-packages/seaborn/_decorators.py:43: FutureWarning:\n",
            "\n",
            "Pass the following variables as keyword args: x, y. From version 0.12, the only valid positional argument will be `data`, and passing other arguments without an explicit keyword will result in an error or misinterpretation.\n",
            "\n",
            "/usr/local/lib/python3.6/dist-packages/ipykernel_launcher.py:12: MatplotlibDeprecationWarning:\n",
            "\n",
            "\n",
            "The frameon kwarg was deprecated in Matplotlib 3.1 and will be removed in 3.3. Use facecolor instead.\n",
            "\n"
          ],
          "name": "stderr"
        },
        {
          "output_type": "display_data",
          "data": {
            "image/png": "[encoded data removed]",
            "text/plain": [
              "<Figure size 864x288 with 1 Axes>"
            ]
          },
          "metadata": {
            "tags": [],
            "needs_background": "light"
          }
        }
      ]
    },
    {
      "cell_type": "markdown",
      "metadata": {
        "id": "8SgeimQs5Ihd"
      },
      "source": [
        "Veri setimizi ön işleme tabi tutarak istenmeyen noktalama işaretleri, büyük harf ve sembollerden arındırıyoruz."
      ]
    },
    {
      "cell_type": "code",
      "metadata": {
        "id": "w7yJcY5jtt_q"
      },
      "source": [
        "\n",
        "df = df.reset_index(drop=True)\n",
        "REPLACE_BY_SPACE_RE = re.compile('[/(){}\\[\\]\\|@,;]')\n",
        "BAD_SYMBOLS_RE = re.compile('[^0-9a-z #+_]')\n",
        "STOPWORDS = set(stopwords.words('turkish'))\n",
        "\n",
        "def clean_text(text):\n",
        "    \"\"\"\n",
        "        text: a string\n",
        "        \n",
        "        return: modified initial string\n",
        "    \"\"\"\n",
        "    text = text.lower() # küçük harfe dönüştürür\n",
        "    text = REPLACE_BY_SPACE_RE.sub(' ', text) \n",
        "    text = BAD_SYMBOLS_RE.sub('', text)  \n",
        "    text = text.replace('x', '')\n",
        "#    text = re.sub(r'\\W+', '', text)\n",
        "    text = ' '.join(word for word in text.split() if word not in STOPWORDS) # remove stopwors from text\n",
        "    return text\n",
        "df['text'] = df['text'].apply(clean_text)\n"
      ],
      "execution_count": 36,
      "outputs": []
    },
    {
      "cell_type": "markdown",
      "metadata": {
        "id": "MgXg5f_V7T42"
      },
      "source": [
        "Veri setimizi tokenize ediyoruz."
      ]
    },
    {
      "cell_type": "code",
      "metadata": {
        "id": "oT6W5VjYtt_0"
      },
      "source": [
        "# Kullanılabilecek maksimum kelime sayısı. \n",
        "MAX_NB_WORDS = 50000\n",
        "# Her defada kullanılabilecek maksimum kelime sayısı.\n",
        "MAX_SEQUENCE_LENGTH = 250\n",
        "# Gömü Boyutu(Değiştirmemenizi öneriririz).\n",
        "EMBEDDING_DIM = 100\n",
        "\n",
        "tokenizer = Tokenizer(num_words=MAX_NB_WORDS, filters='!\"#$%&()*+,-./:;<=>?@[\\]^_`{|}~', lower=True)\n",
        "tokenizer.fit_on_texts(df['text'].values)\n",
        "word_index = tokenizer.word_index\n",
        "print('Found %s unique tokens.' % len(word_index))"
      ],
      "execution_count": null,
      "outputs": []
    },
    {
      "cell_type": "markdown",
      "metadata": {
        "id": "LbQr7DI3-OGf"
      },
      "source": [
        "Bulduğumuz tokenlar ile veri setimizin text kısmını n*m lik bir matrise dönüştürüyoruz."
      ]
    },
    {
      "cell_type": "code",
      "metadata": {
        "id": "pPgy5YlPtt_2"
      },
      "source": [
        "X = tokenizer.texts_to_sequences(df['text'].values)\n",
        "X = pad_sequences(X, maxlen=MAX_SEQUENCE_LENGTH)\n",
        "print('Shape of data tensor:', X.shape)\n"
      ],
      "execution_count": null,
      "outputs": []
    },
    {
      "cell_type": "markdown",
      "metadata": {
        "id": "l1VFlKEb7v3X"
      },
      "source": [
        "Etiketlerimizi modelimize göre dönüştürüyoruz."
      ]
    },
    {
      "cell_type": "code",
      "metadata": {
        "id": "m77qKjKitt_4"
      },
      "source": [
        "Y = pd.get_dummies(df['labels']).values\n",
        "print('Shape of label tensor:', Y.shape)"
      ],
      "execution_count": null,
      "outputs": []
    },
    {
      "cell_type": "markdown",
      "metadata": {
        "id": "0cNqpLAp70b5"
      },
      "source": [
        "Eğitim ve test veri setini birbirinden ayırıyoruz.\r\n"
      ]
    },
    {
      "cell_type": "code",
      "metadata": {
        "id": "vN-C_3u2tt_7"
      },
      "source": [
        "X_train, X_test, Y_train, Y_test = train_test_split(X,Y, test_size = 0.20, random_state = 42)\n",
        "print(X_train.shape,Y_train.shape)\n",
        "print(X_test.shape,Y_test.shape)"
      ],
      "execution_count": null,
      "outputs": []
    },
    {
      "cell_type": "markdown",
      "metadata": {
        "id": "ChIaymqK9N-A"
      },
      "source": [
        "Model parametrelerimizi belirliyoruz.\r\n",
        "Son katmanda kaç etiketimiz varsa o kadar çıktı alternatifi oluşturuyoruz. Bizim veri setimizde 10 farklı etiket var bu yüzden dense = 10 dedik. "
      ]
    },
    {
      "cell_type": "code",
      "metadata": {
        "id": "uPE5MxCZtt__"
      },
      "source": [
        "model = Sequential()\n",
        "model.add(Embedding(MAX_NB_WORDS, EMBEDDING_DIM, input_length=X.shape[1]))\n",
        "model.add(SpatialDropout1D(0.2))\n",
        "model.add(LSTM(100, dropout=0.2, recurrent_dropout=0.2))\n",
        "\n",
        "model.add(Dense(10, activation='softmax'))\n",
        "\n",
        "model.compile(loss='categorical_crossentropy', optimizer='adam', metrics=['accuracy', 'mse'])\n",
        "print(model.summary())"
      ],
      "execution_count": null,
      "outputs": []
    },
    {
      "cell_type": "markdown",
      "metadata": {
        "id": "ncqSiKry9XMq"
      },
      "source": [
        "Belirlediğimiz parametrelere göre modeli eğitiyoruz. Burada öğrenme eğrilerinden modelin en uygun sonucuna göre tekrar modeli baştan eğitmek daha doğru sonuç alabilmemizi mümkün kılar."
      ]
    },
    {
      "cell_type": "code",
      "metadata": {
        "id": "08y7LTdqijjM"
      },
      "source": [
        "epochs = 20\n",
        "batch_size = 64\n",
        "\n",
        "history = model.fit(X_train, Y_train, epochs=epochs, batch_size=batch_size,validation_split=0.1,callbacks=[EarlyStopping(monitor='val_loss', patience=3, min_delta=0.0001)])"
      ],
      "execution_count": null,
      "outputs": []
    },
    {
      "cell_type": "markdown",
      "metadata": {
        "id": "3uchYAKJ9gM8"
      },
      "source": [
        "Modelin doğruluğunun test seti için ölçümlemesini gerçekleştiriyoruz."
      ]
    },
    {
      "cell_type": "code",
      "metadata": {
        "id": "l-s77KvWtuAE",
        "colab": {
          "base_uri": "https://localhost:8080/"
        },
        "outputId": "5438cb00-5d06-40b8-9db2-53f0f00600c2"
      },
      "source": [
        "accr = model.evaluate(X_test,Y_test,return_dict=False)\n",
        "print('Test set\\n  Loss: {:0.3f}\\n  Accuracy: {:0.3f}'.format(accr[0],accr[1]))"
      ],
      "execution_count": 44,
      "outputs": [
        {
          "output_type": "stream",
          "text": [
            "44/44 [==============================] - 3s 68ms/step - loss: 0.3597 - accuracy: 0.9007 - mse: 0.0149\n",
            "Test set\n",
            "  Loss: 0.360\n",
            "  Accuracy: 0.901\n"
          ],
          "name": "stdout"
        }
      ]
    },
    {
      "cell_type": "markdown",
      "metadata": {
        "id": "qgMjY9hN3dXA"
      },
      "source": [
        "Ürettiğimiz modeli kaydetmek için bunu kullanırız."
      ]
    },
    {
      "cell_type": "code",
      "metadata": {
        "id": "zh8jLoO2_D8J"
      },
      "source": [
        "model.save('./model-isminiz/')"
      ],
      "execution_count": null,
      "outputs": []
    },
    {
      "cell_type": "markdown",
      "metadata": {
        "id": "7WCcNJ0g9HH3"
      },
      "source": [
        "Modelin performans metriklerini ölçmek için aşağıdaki kodları kullanıyoruz."
      ]
    },
    {
      "cell_type": "code",
      "metadata": {
        "id": "VYQKTGW5tuAG"
      },
      "source": [
        "plt.title('Kayıp Degeri')\n",
        "plt.plot(history.history['loss'], label='eğitim')\n",
        "plt.plot(history.history['val_loss'], label='test')\n",
        "plt.legend()\n",
        "plt.savefig('LSTM-Loss-LearningCurve.pdf', dpi=1200, facecolor='w', edgecolor='w',\n",
        "        orientation='portrait', papertype=None, format=None,\n",
        "        transparent=False, bbox_inches=None, pad_inches=0.1,\n",
        "        frameon=None, metadata=None)\n",
        "plt.show();\n"
      ],
      "execution_count": null,
      "outputs": []
    },
    {
      "cell_type": "code",
      "metadata": {
        "id": "sHQhYYXxtuAI"
      },
      "source": [
        "plt.title('Doğruluk Öğrenme Eğrisi')\n",
        "plt.plot(history.history['accuracy'], label='eğitim')\n",
        "plt.plot(history.history['val_accuracy'], label='test')\n",
        "plt.legend()\n",
        "plt.savefig('LSTM-Accuracy-LearningCurve.pdf', dpi=1200, facecolor='w', edgecolor='w',\n",
        "        orientation='portrait', papertype=None, format=None,\n",
        "        transparent=False, bbox_inches=None, pad_inches=0.1,\n",
        "        frameon=None, metadata=None)\n",
        "plt.show();"
      ],
      "execution_count": null,
      "outputs": []
    },
    {
      "cell_type": "markdown",
      "metadata": {
        "id": "5cBB_zE1tuAK"
      },
      "source": [
        "Aşağıda modelin performans analizinin detayları görülmektedir.\r\n",
        "Öncelikle, Test setindeki veriler için, soruların gerçek etiketleri ile model tarafından üretilmiş olan etiketleri karşılaştırılır"
      ]
    },
    {
      "cell_type": "code",
      "metadata": {
        "id": "bX9g1qmLtuAK"
      },
      "source": [
        "y_pred=[]\n",
        "y_true = []\n",
        "pred = model.predict(X_test)\n",
        "for i in range(len(pred)):\n",
        "  y_pred.append([np.argmax(pred[i])])\n",
        "\n",
        "for i in range(len(X_test)):\n",
        "  y_true.append(np.argmax(Y_test[i]))\n",
        "Y_pred = [item for sublist in y_pred for item in sublist]\n"
      ],
      "execution_count": null,
      "outputs": []
    },
    {
      "cell_type": "code",
      "metadata": {
        "id": "sWXMg1ZLjkNq"
      },
      "source": [
        "from sklearn.metrics import confusion_matrix\r\n",
        "from sklearn.metrics import plot_confusion_matrix\r\n",
        "confusion_matrix(y_true, Y_pred)\r\n"
      ],
      "execution_count": null,
      "outputs": []
    },
    {
      "cell_type": "code",
      "metadata": {
        "id": "1ZUhWGWxjs5C"
      },
      "source": [
        "from sklearn.metrics import classification_report\r\n",
        "print(classification_report(y_true, Y_pred))"
      ],
      "execution_count": null,
      "outputs": []
    }
  ]
}
